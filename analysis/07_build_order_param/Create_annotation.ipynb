{
 "cells": [
  {
   "cell_type": "code",
   "execution_count": 3,
   "metadata": {},
   "outputs": [
    {
     "name": "stdout",
     "output_type": "stream",
     "text": [
      "4 7 9 11 13 14 16 17 18 19 21 23 24 26 \n",
      "28 30 34 35 39 41 43 44 46 48 50 51 53 55 58 \n",
      "60 62 64 66 70 74 76 78 80 85 87 91 94 98 105 \n",
      "107 109 111 113 115 117 119 121 126 128 130 132 134 135 137 \n",
      "141 143 145 146 147 149 151 152 154 158 160 162 163 165 169 \n",
      "171 173 181 184 187 189 191 193 195 197 199 201 203 205 206 \n",
      "210 212 214 215 217 219 221 222 226 237 239 243 245 247 249 \n",
      "251 253 254 257 261 263 265 266 268 272 274 275 277 279 281 \n",
      "282 286 288 290 292 296 298 299 301 312 315 316 317 319 320 \n",
      "322 324 328 330 332 333 335 337 339 340 342 344 346 347 349 \n",
      "351 374 376 381 383 385 387 389 391 393 395 399 401 403 404 \n",
      "406 408 410 412 414 416 561 565 568 570 572 574 576 578 579 \n",
      "581 583 585 587 589 591 593 595 597 599 600 602 604 605 607 \n",
      "611 615 619 621 623 625 627 631 633 636 642 644 646 648 652 \n",
      "653 655 657 658 660 661 663 665 667 669 670 674 676 678 680 \n",
      "682 684 688 690 692 698 699 702 705 707 709 713 715 717 718 \n",
      "720 721 722 724 725 726 728 729 731 733 735 737 739 740 742 \n",
      "743 745 760 762 764 768 770 772 774 776 777 779 783 784 788 \n",
      "790 791 795 799 801 803 804 806 807 809 811 813 818 822 824 \n",
      "826 840 842 845 847 848 849 851 852 854 855 856 860 862 864 \n",
      "869 871 873 875 879 881 883 884 886 888 892 894 898 900 902 \n",
      "904 906 939 941 945 949 951 955 957 961 965 968 "
     ]
    }
   ],
   "source": [
    "annotation = open(\"TM_indices_5eqi.txt\", \"r\").readlines()\n",
    "annotation = [x.strip().split(\"\\t\") for x in annotation]\n",
    "\n",
    "atomconversion = open(\"5EQI_AA_to_atomnr\", \"r\").readlines()[1:]\n",
    "test = [list(map(int, x.strip().split(\"\\t\"))) for x in atomconversion]\n",
    "atomdict = dict()\n",
    "\n",
    "order_param = []\n",
    "for aa, atom in test:\n",
    "    for tm, start, stop in annotation:\n",
    "        start = int(start)\n",
    "        stop = int(stop)\n",
    "        if aa >= start and aa <= stop:\n",
    "            order_param.append(atom)\n",
    "    \n",
    "for i, item in enumerate(order_param):\n",
    "    if (i+1) % 15 == 0:\n",
    "        print()\n",
    "    print(item, end=\" \")"
   ]
  },
  {
   "cell_type": "code",
   "execution_count": 5,
   "metadata": {},
   "outputs": [],
   "source": []
  },
  {
   "cell_type": "code",
   "execution_count": 4,
   "metadata": {},
   "outputs": [
    {
     "name": "stdout",
     "output_type": "stream",
     "text": [
      "[TM1_start]\n",
      "4 7 9 11 13 14 16 17 18 19 \n",
      "[TM1_end]\n",
      "66 70 74 76 78 80 85 87 91 94 \n",
      "[TM2_start]\n",
      "105 107 109 111 113 115 117 119 121 126 \n",
      "[TM2_end]\n",
      "151 152 154 158 160 162 163 165 169 171 \n",
      "[TM5_start]\n",
      "312 315 316 317 319 320 322 324 328 330 \n",
      "[TM5_end]\n",
      "333 335 337 339 340 342 344 346 347 349 \n",
      "[TM7_start]\n",
      "561 565 568 570 572 574 576 578 579 581 \n",
      "[TM7_end]\n",
      "607 611 615 619 621 623 625 627 631 633 \n",
      "[TM8_start]\n",
      "642 644 646 648 652 653 655 657 658 660 \n",
      "[TM8_end]\n",
      "669 670 674 676 678 680 682 684 688 690 \n",
      "[TM11_start]\n",
      "840 842 845 847 848 849 851 852 854 855 \n",
      "[TM11_end]\n",
      "883 884 886 888 892 894 898 900 902 904 \n"
     ]
    }
   ],
   "source": [
    "atomconversion = open(\"5EQI_AA_to_atomnr\", \"r\").readlines()[1:]\n",
    "test = [list(map(int, x.strip().split(\"\\t\"))) for x in atomconversion]\n",
    "atomdict = dict()\n",
    "for a, b in test:\n",
    "    atomdict[int(a)] = int(b)\n",
    "\n",
    "annotation = open(\"TM_indices_5eqi.txt\", \"r\").readlines()\n",
    "annotation = [x.strip().split(\"\\t\") for x in annotation]\n",
    "annotation = [[x[0], int(x[1]), int(x[2])] for x in annotation]\n",
    "\n",
    "for tm, start, stop in annotation:\n",
    "    todo = \"TM5 TM1 TM11 TM7 TM8 TM2\".split(\" \")\n",
    "    if tm in todo:\n",
    "        # Start of helix\n",
    "        print(f\"[{tm}_start]\")\n",
    "        aa = list(range(start, start+10))\n",
    "        bb_atom = [atomdict[x] for x in aa]\n",
    "        # [print(x, end=\" \") for x in aa]\n",
    "        [print(x, end=\" \") for x in bb_atom]\n",
    "        \n",
    "        # End of helix\n",
    "        print(f\"\\n[{tm}_end]\")\n",
    "        aa = list(range(stop-10, stop))\n",
    "        bb_atom = [atomdict[x] for x in aa]\n",
    "        # [print(x, end=\" \") for x in aa]\n",
    "        [print(x, end=\" \") for x in bb_atom]\n",
    "        print()"
   ]
  },
  {
   "cell_type": "code",
   "execution_count": 5,
   "metadata": {},
   "outputs": [
    {
     "name": "stdout",
     "output_type": "stream",
     "text": [
      "[TM1_start]\n",
      "17 18 20 22 26 27 29 31 33 34 \n",
      "[TM1_end]\n",
      "84 88 90 92 95 97 99 101 103 106 \n",
      "[TM2_start]\n",
      "114 116 118 120 122 124 126 128 130 135 \n",
      "[TM2_end]\n",
      "160 161 163 167 169 171 172 174 178 180 \n",
      "[TM5_start]\n",
      "314 317 318 319 323 324 326 328 330 332 \n",
      "[TM5_end]\n",
      "335 337 339 341 342 344 346 348 349 351 \n",
      "[TM7_start]\n",
      "559 563 566 568 570 572 574 576 578 580 \n",
      "[TM7_end]\n",
      "606 610 614 618 620 622 623 625 629 632 \n",
      "[TM8_start]\n",
      "640 642 644 646 650 651 653 655 656 657 \n",
      "[TM8_end]\n",
      "666 668 672 674 676 678 680 682 686 688 \n",
      "[TM11_start]\n",
      "841 843 846 848 849 850 852 853 855 856 \n",
      "[TM11_end]\n",
      "882 883 885 887 891 893 895 896 897 901 \n"
     ]
    }
   ],
   "source": [
    "atomconversion = open(\"4ZW9_AA_to_atomnr\", \"r\").readlines()[1:]\n",
    "test = [list(map(int, x.strip().split(\"\\t\"))) for x in atomconversion]\n",
    "atomdict = dict()\n",
    "for a, b in test:\n",
    "    atomdict[int(a)] = int(b)\n",
    "\n",
    "annotation = open(\"TM_indices_4zw9.txt\", \"r\").readlines()\n",
    "annotation = [x.strip().split(\"\\t\") for x in annotation]\n",
    "annotation = [[x[0], int(x[1]), int(x[2])] for x in annotation]\n",
    "\n",
    "for tm, start, stop in annotation:\n",
    "    todo = \"TM5 TM1 TM11 TM7 TM8 TM2\".split(\" \")\n",
    "    if tm in todo:\n",
    "        # Start of helix\n",
    "        print(f\"[{tm}_start]\")\n",
    "        aa = list(range(start, start+10))\n",
    "        bb_atom = [atomdict[x] for x in aa]\n",
    "        # [print(x, end=\" \") for x in aa]\n",
    "        [print(x, end=\" \") for x in bb_atom]\n",
    "        \n",
    "        # End of helix\n",
    "        print(f\"\\n[{tm}_end]\")\n",
    "        aa = list(range(stop-10, stop))\n",
    "        bb_atom = [atomdict[x] for x in aa]\n",
    "        # [print(x, end=\" \") for x in aa]\n",
    "        [print(x, end=\" \") for x in bb_atom]\n",
    "        print()"
   ]
  }
 ],
 "metadata": {
  "kernelspec": {
   "display_name": "md_production",
   "language": "python",
   "name": "python3"
  },
  "language_info": {
   "codemirror_mode": {
    "name": "ipython",
    "version": 3
   },
   "file_extension": ".py",
   "mimetype": "text/x-python",
   "name": "python",
   "nbconvert_exporter": "python",
   "pygments_lexer": "ipython3",
   "version": "3.12.1"
  }
 },
 "nbformat": 4,
 "nbformat_minor": 2
}
