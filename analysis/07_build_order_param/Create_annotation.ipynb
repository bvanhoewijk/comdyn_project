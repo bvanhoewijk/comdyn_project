{
 "cells": [
  {
   "cell_type": "markdown",
   "metadata": {},
   "source": [
    "# Helper function to generate index files\n",
    "- aa_to_atomnrfile: "
   ]
  },
  {
   "cell_type": "code",
   "execution_count": 52,
   "metadata": {},
   "outputs": [],
   "source": [
    "def produce_indexfile(aa_to_atomnrfile, tm_indices, output, size=10):\n",
    "    \"\"\"Helper function to generate index files\n",
    "\n",
    "    Args:\n",
    "        aa_to_atomnrfile (str): AA index and Atom index: obtained from PDB file\n",
    "        tm_indices (str): Transmembrane index ranges file. Manually made.\n",
    "        output (str): output file\n",
    "        size (int, optional): Number of terminal AA to output. Defaults to 10.\n",
    "    \"\"\"    \n",
    "    outputfh = open(output, \"w\")\n",
    "\n",
    "    atomconversion = open(aa_to_atomnrfile, \"r\").readlines()[1:]\n",
    "    test = [list(map(int, x.strip().split(\"\\t\"))) for x in atomconversion]\n",
    "    atomdict = dict()\n",
    "    for a, b in test:\n",
    "        atomdict[int(a)] = int(b)\n",
    "\n",
    "    annotation = open(tm_indices, \"r\").readlines()\n",
    "    annotation = [x.strip().split(\"\\t\") for x in annotation]\n",
    "    annotation = [[x[0], int(x[1]), int(x[2])] for x in annotation]\n",
    "\n",
    "    everything = []\n",
    "    for tm, start, stop in annotation:\n",
    "        todo = \"TM5 TM1 TM11 TM7 TM8 TM2\".split(\" \")\n",
    "        if tm in todo:\n",
    "            # Start of helix\n",
    "            aa = list(range(start, stop))\n",
    "            bb_atom = [atomdict[x] for x in aa]\n",
    "\n",
    "            # Transmembrane helices TM2 and TM8 have a different orientation \n",
    "            # reverse the coordinates:\n",
    "            if tm in [\"TM2\", \"TM8\"]:\n",
    "                bb_atom = bb_atom[::-1]\n",
    "\n",
    "            start_bb = bb_atom[0:size]\n",
    "            end_bb   = bb_atom[-size:]\n",
    "\n",
    "            start_bb.sort()\n",
    "            end_bb.sort()\n",
    "\n",
    "            outputfh.write(f\"[{tm}_in]\\n\")\n",
    "            [outputfh.write(str(x) + \" \") for x in start_bb]\n",
    "            outputfh.write(\"\\n\")\n",
    "            outputfh.write(f\"[{tm}_out]\\n\")\n",
    "            [outputfh.write(str(x) + \" \") for x in end_bb]\n",
    "            outputfh.write(\"\\n\")\n",
    "            everything.extend(end_bb)\n",
    "            everything.extend(start_bb)\n",
    "\n",
    "    outputfh.write(\"[all_tm_helices]\\n\")\n",
    "    everything.sort()\n",
    "    # Pretty print:\n",
    "    for i, x in enumerate(everything):\n",
    "        outputfh.write(str(x) + \" \")\n",
    "        if (i+1) % 10 == 0:\n",
    "            outputfh.write(\"\\n\")\n",
    "    \n",
    "    outputfh.write(\"[full_tm_helices]\\n\")\n",
    "    total = []\n",
    "    for tm, start, stop in annotation:\n",
    "        todo = \"TM5 TM1 TM11 TM7 TM8 TM2\".split(\" \")\n",
    "        if tm in todo:\n",
    "            # Start of helix\n",
    "            aa = list(range(start, stop))\n",
    "            bb_atom = [atomdict[x] for x in aa]\n",
    "            total.extend(bb_atom)\n",
    "    total.sort()\n",
    "    print(total)\n",
    "    for i, item in enumerate(total):\n",
    "        outputfh.write(str(item) + \" \")\n",
    "        if (i+1) == 10:\n",
    "            outputfh.write(\"\\n\")\n",
    "    outputfh.write(\"\\n\")\n",
    "\n",
    "            \n",
    "    # Final new line to keep GROMACS from complaining:\n",
    "    outputfh.write(\"\\n\")\n",
    "    \n"
   ]
  },
  {
   "cell_type": "code",
   "execution_count": 53,
   "metadata": {},
   "outputs": [
    {
     "name": "stdout",
     "output_type": "stream",
     "text": [
      "[17, 18, 20, 22, 26, 27, 29, 31, 33, 34, 36, 38, 39, 41, 45, 47, 51, 52, 56, 58, 60, 114, 116, 118, 120, 122, 124, 126, 128, 130, 135, 137, 139, 141, 143, 144, 146, 150, 152, 154, 155, 156, 158, 160, 161, 163, 167, 169, 171, 172, 174, 178, 180, 314, 317, 318, 319, 323, 324, 326, 328, 330, 332, 334, 335, 337, 339, 341, 342, 344, 346, 348, 349, 351, 559, 563, 566, 568, 570, 572, 574, 576, 578, 580, 582, 584, 586, 588, 590, 592, 594, 596, 598, 599, 601, 603, 604, 606, 610, 614, 618, 620, 622, 623, 625, 629, 632, 640, 642, 644, 646, 650, 651, 653, 655, 656, 657, 658, 660, 662, 664, 666, 668, 672, 674, 676, 678, 680, 682, 686, 688, 841, 843, 846, 848, 849, 850, 852, 853, 855, 856, 857, 859, 861, 863, 868, 870, 872, 874, 878, 880, 882, 883, 885, 887, 891, 893, 895, 896, 897, 901]\n",
      "[4, 7, 9, 11, 13, 14, 16, 17, 18, 19, 21, 23, 24, 26, 28, 30, 34, 35, 39, 41, 43, 105, 107, 109, 111, 113, 115, 117, 119, 121, 126, 128, 130, 132, 134, 135, 137, 141, 143, 145, 146, 147, 149, 151, 152, 154, 158, 160, 162, 163, 165, 169, 171, 312, 315, 316, 317, 319, 320, 322, 324, 328, 330, 332, 333, 335, 337, 339, 340, 342, 344, 346, 347, 349, 561, 565, 568, 570, 572, 574, 576, 578, 579, 581, 583, 585, 587, 589, 591, 593, 595, 597, 599, 600, 602, 604, 605, 607, 611, 615, 619, 621, 623, 625, 627, 631, 633, 642, 644, 646, 648, 652, 653, 655, 657, 658, 660, 661, 663, 665, 667, 669, 670, 674, 676, 678, 680, 682, 684, 688, 690, 840, 842, 845, 847, 848, 849, 851, 852, 854, 855, 856, 860, 862, 864, 869, 871, 873, 875, 879, 881, 883, 884, 886, 888, 892, 894, 898, 900, 902, 904]\n",
      "[17, 19, 21, 25, 26, 28, 30, 32, 33, 35, 37, 38, 40, 44, 46, 50, 51, 55, 57, 59, 60, 115, 117, 119, 121, 123, 125, 127, 129, 134, 136, 138, 140, 142, 143, 145, 149, 151, 153, 154, 155, 157, 159, 160, 162, 166, 168, 170, 171, 173, 177, 179, 181, 317, 318, 319, 323, 324, 326, 328, 330, 332, 334, 335, 337, 339, 341, 342, 344, 346, 348, 349, 351, 353, 563, 566, 568, 570, 572, 574, 576, 578, 580, 582, 584, 586, 588, 590, 592, 594, 596, 598, 599, 601, 603, 604, 606, 610, 614, 618, 620, 622, 623, 625, 629, 632, 634, 642, 644, 646, 650, 651, 653, 655, 656, 657, 658, 660, 662, 664, 666, 668, 672, 674, 676, 678, 680, 682, 686, 688, 690, 843, 846, 848, 849, 850, 852, 853, 855, 856, 857, 859, 861, 863, 868, 870, 872, 874, 878, 880, 882, 883, 885, 887, 891, 893, 895, 896, 897, 901, 905]\n",
      "[6, 8, 10, 12, 13, 15, 16, 17, 18, 20, 22, 23, 25, 27, 29, 33, 34, 38, 40, 42, 43, 106, 108, 110, 112, 114, 116, 118, 120, 125, 127, 129, 131, 133, 134, 136, 140, 142, 144, 145, 146, 148, 150, 151, 153, 157, 159, 161, 162, 164, 168, 170, 172, 315, 316, 317, 319, 320, 322, 324, 328, 330, 332, 333, 335, 337, 339, 340, 342, 344, 346, 347, 349, 351, 565, 568, 570, 572, 574, 576, 578, 579, 581, 583, 585, 587, 589, 591, 593, 595, 597, 599, 600, 602, 604, 605, 607, 611, 615, 619, 621, 623, 625, 627, 631, 633, 636, 644, 646, 648, 652, 653, 655, 657, 658, 660, 661, 663, 665, 667, 669, 670, 674, 676, 678, 680, 682, 684, 688, 690, 692, 842, 845, 847, 848, 849, 851, 852, 854, 855, 856, 860, 862, 864, 869, 871, 873, 875, 879, 881, 883, 884, 886, 888, 892, 894, 898, 900, 902, 904, 906]\n",
      "[17, 19, 21, 25, 26, 28, 30, 32, 33, 35, 37, 38, 40, 44, 46, 50, 51, 55, 57, 59, 60, 115, 117, 119, 121, 123, 125, 127, 129, 134, 136, 138, 140, 142, 143, 145, 149, 151, 153, 154, 155, 157, 159, 160, 162, 166, 168, 170, 171, 173, 177, 179, 181, 316, 317, 318, 322, 323, 325, 327, 329, 331, 333, 334, 336, 338, 340, 341, 343, 345, 347, 348, 350, 352, 562, 565, 567, 569, 571, 573, 575, 577, 579, 581, 583, 585, 587, 589, 591, 593, 595, 597, 598, 600, 602, 603, 605, 609, 613, 617, 619, 621, 622, 624, 628, 631, 633, 641, 643, 645, 649, 650, 652, 654, 655, 656, 657, 659, 661, 663, 665, 667, 671, 673, 675, 677, 679, 681, 685, 687, 689, 844, 847, 849, 850, 851, 853, 854, 856, 857, 858, 860, 862, 864, 869, 871, 873, 875, 879, 881, 883, 884, 886, 888, 892, 894, 896, 897, 898, 902, 906]\n",
      "[6, 8, 10, 12, 13, 15, 16, 17, 18, 20, 22, 23, 25, 27, 29, 33, 34, 38, 40, 42, 43, 106, 108, 110, 112, 114, 116, 118, 120, 125, 127, 129, 131, 133, 134, 136, 140, 142, 144, 145, 146, 148, 150, 151, 153, 157, 159, 161, 162, 164, 168, 170, 172, 314, 315, 316, 318, 319, 321, 323, 327, 329, 331, 332, 334, 336, 338, 339, 341, 343, 345, 346, 348, 350, 564, 567, 569, 571, 573, 575, 577, 578, 580, 582, 584, 586, 588, 590, 592, 594, 596, 598, 599, 601, 603, 604, 606, 610, 614, 618, 620, 622, 624, 626, 630, 632, 635, 643, 645, 647, 651, 652, 654, 656, 657, 659, 660, 662, 664, 666, 668, 669, 673, 675, 677, 679, 681, 683, 687, 689, 691, 843, 846, 848, 849, 850, 852, 853, 855, 856, 857, 861, 863, 865, 870, 872, 874, 876, 880, 882, 884, 885, 887, 889, 893, 895, 899, 901, 903, 905, 907]\n"
     ]
    }
   ],
   "source": [
    "basepath=\"/home/bas/projects/comdyn_project/analysis/04_production_simulations_elnedyn22/config/\"\n",
    "\n",
    "# Wildtype:\n",
    "produce_indexfile(\"4ZW9_AA_to_atomnr\", \"TM_indices_4zw9.txt\", f\"{basepath}/4zw9_distance.ndx\")\n",
    "produce_indexfile(\"5EQI_AA_to_atomnr\", \"TM_indices_5eqi.txt\", f\"{basepath}/5eqi_distance.ndx\")\n",
    "\n",
    "# Mutant1:\n",
    "produce_indexfile(\"4ZW9_asp89_AA_to_atomnr\", \"TM_indices_4zw9.txt\", f\"{basepath}/4zw9_asp89_distance.ndx\")\n",
    "produce_indexfile(\"5EQI_asp91_AA_to_atomnr\", \"TM_indices_5eqi.txt\", f\"{basepath}/5eqi_asp91_distance.ndx\")\n",
    "\n",
    "# Mutant2:\n",
    "produce_indexfile(\"4ZW9_trp331_AA_to_atomnr\", \"TM_indices_4zw9.txt\", f\"{basepath}/4zw9_trp331_distance.ndx\")\n",
    "produce_indexfile(\"5EQI_trp333_AA_to_atomnr\", \"TM_indices_5eqi.txt\", f\"{basepath}/5eqi_trp333_distance.ndx\")"
   ]
  },
  {
   "cell_type": "code",
   "execution_count": null,
   "metadata": {},
   "outputs": [],
   "source": []
  }
 ],
 "metadata": {
  "kernelspec": {
   "display_name": "md_production",
   "language": "python",
   "name": "python3"
  },
  "language_info": {
   "codemirror_mode": {
    "name": "ipython",
    "version": 3
   },
   "file_extension": ".py",
   "mimetype": "text/x-python",
   "name": "python",
   "nbconvert_exporter": "python",
   "pygments_lexer": "ipython3",
   "version": "3.12.1"
  }
 },
 "nbformat": 4,
 "nbformat_minor": 2
}
