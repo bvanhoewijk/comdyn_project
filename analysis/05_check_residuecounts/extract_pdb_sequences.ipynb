{
 "cells": [
  {
   "cell_type": "code",
   "execution_count": 17,
   "metadata": {},
   "outputs": [
    {
     "name": "stdout",
     "output_type": "stream",
     "text": [
      "5eqi_from_snapshot.pdb\n",
      "  ATOMS: 975 BB: 447\n",
      "\n",
      "5eqi_proa.cg.pdb\n",
      "  ATOMS: 1124 BB: 492\n",
      "\n",
      "5eqi.pdb\n",
      "  ATOMS: 7035 BB: 447\n",
      "\n",
      ">frame1_bvh\n",
      "frame1.pdb\n",
      "  ATOMS: 1124 BB: 492\n",
      "\n"
     ]
    }
   ],
   "source": [
    "import re\n",
    "import Bio\n",
    "\n",
    "file1 =\"5eqi_from_snapshot.pdb\"\n",
    "file2 =\"5eqi_proa.cg.pdb\"\n",
    "file3 =\"5eqi.pdb\"\n",
    "file4 = \"frame1.pdb\"\n",
    "\n",
    "def get_residues(pdb_file, focus=\"BB\"):\n",
    "    residues = []\n",
    "    atoms = 0\n",
    "    with open(pdb_file, \"r\") as fh:\n",
    "        for line in fh:\n",
    "            line = line.strip()\n",
    "            elements = re.split(r\" +\", line)\n",
    "            if elements[0] == \"ATOM\":\n",
    "                atoms += 1\n",
    "                atomtype = line[12:16].strip()\n",
    "                residue = line[17:20].strip()\n",
    "\n",
    "                if atomtype == focus:\n",
    "                    residues.append(residue)\n",
    "\n",
    "    print(f\"{pdb_file}\\n  ATOMS: {atoms} BB: {len(residues)}\\n\")\n",
    "    return residues\n",
    "\n",
    "d = {'CYS': 'C', 'ASP': 'D', 'SER': 'S', 'GLN': 'Q', 'LYS': 'K',\n",
    "     'ILE': 'I', 'PRO': 'P', 'THR': 'T', 'PHE': 'F', 'ASN': 'N', \n",
    "     'GLY': 'G', 'HIS': 'H', 'LEU': 'L', 'ARG': 'R', 'TRP': 'W', \n",
    "     'ALA': 'A', 'VAL':'V', 'GLU': 'E', 'TYR': 'Y', 'MET': 'M'}\n",
    "\n",
    "\n",
    "### Results from SNAPshot ComDYN paper:\n",
    "aaseq = \"\".join([d[x] for x in get_residues(file1)])\n",
    "\n",
    "### Results from CG PDB used in my simulations:\n",
    "aaseq = \"\".join([d[x] for x in get_residues(file2)])\n",
    "\n",
    "### Raw PDB from COMDYN paper\n",
    "aaseq = \"\".join([d[x] for x in get_residues(file3, \"CA\")])\n",
    "\n",
    "### Frame1 from my simulation:\n",
    "print(\">frame1_bvh\")\n",
    "aaseq = \"\".join([d[x] for x in get_residues(file4, \"BB\")])\n",
    "\n"
   ]
  }
 ],
 "metadata": {
  "kernelspec": {
   "display_name": "md_production",
   "language": "python",
   "name": "python3"
  },
  "language_info": {
   "codemirror_mode": {
    "name": "ipython",
    "version": 3
   },
   "file_extension": ".py",
   "mimetype": "text/x-python",
   "name": "python",
   "nbconvert_exporter": "python",
   "pygments_lexer": "ipython3",
   "version": "3.12.0"
  }
 },
 "nbformat": 4,
 "nbformat_minor": 2
}
